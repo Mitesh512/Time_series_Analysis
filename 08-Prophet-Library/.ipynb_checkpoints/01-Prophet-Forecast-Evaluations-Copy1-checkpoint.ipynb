{
 "cells": [
  {
   "cell_type": "markdown",
   "metadata": {},
   "source": [
    "# Forecast Evaluations"
   ]
  },
  {
   "cell_type": "markdown",
   "metadata": {},
   "source": [
    "### Classic Train/Test Split"
   ]
  },
  {
   "cell_type": "code",
   "execution_count": 1,
   "metadata": {},
   "outputs": [
    {
     "name": "stderr",
     "output_type": "stream",
     "text": [
      "ERROR:fbprophet:Importing plotly failed. Interactive plots will not work.\n"
     ]
    }
   ],
   "source": [
    "import warnings\n",
    "warnings.filterwarnings(\"ignore\")\n",
    "import pandas as pd\n",
    "from fbprophet import Prophet\n",
    "%matplotlib inline"
   ]
  },
  {
   "cell_type": "code",
   "execution_count": 22,
   "metadata": {},
   "outputs": [],
   "source": [
    "pd.plotting.register_matplotlib_converters()"
   ]
  },
  {
   "cell_type": "code",
   "execution_count": 2,
   "metadata": {},
   "outputs": [],
   "source": [
    "df = pd.read_csv('Miles_Traveled.csv')"
   ]
  },
  {
   "cell_type": "code",
   "execution_count": 3,
   "metadata": {},
   "outputs": [
    {
     "name": "stdout",
     "output_type": "stream",
     "text": [
      "<class 'pandas.core.frame.DataFrame'>\n",
      "RangeIndex: 588 entries, 0 to 587\n",
      "Data columns (total 2 columns):\n",
      "DATE                588 non-null object\n",
      "TRFVOLUSM227NFWA    588 non-null float64\n",
      "dtypes: float64(1), object(1)\n",
      "memory usage: 9.3+ KB\n"
     ]
    }
   ],
   "source": [
    "df.info()"
   ]
  },
  {
   "cell_type": "code",
   "execution_count": 4,
   "metadata": {},
   "outputs": [
    {
     "data": {
      "text/html": [
       "<div>\n",
       "<style scoped>\n",
       "    .dataframe tbody tr th:only-of-type {\n",
       "        vertical-align: middle;\n",
       "    }\n",
       "\n",
       "    .dataframe tbody tr th {\n",
       "        vertical-align: top;\n",
       "    }\n",
       "\n",
       "    .dataframe thead th {\n",
       "        text-align: right;\n",
       "    }\n",
       "</style>\n",
       "<table border=\"1\" class=\"dataframe\">\n",
       "  <thead>\n",
       "    <tr style=\"text-align: right;\">\n",
       "      <th></th>\n",
       "      <th>DATE</th>\n",
       "      <th>TRFVOLUSM227NFWA</th>\n",
       "    </tr>\n",
       "  </thead>\n",
       "  <tbody>\n",
       "    <tr>\n",
       "      <th>0</th>\n",
       "      <td>1970-01-01</td>\n",
       "      <td>80173.0</td>\n",
       "    </tr>\n",
       "    <tr>\n",
       "      <th>1</th>\n",
       "      <td>1970-02-01</td>\n",
       "      <td>77442.0</td>\n",
       "    </tr>\n",
       "    <tr>\n",
       "      <th>2</th>\n",
       "      <td>1970-03-01</td>\n",
       "      <td>90223.0</td>\n",
       "    </tr>\n",
       "    <tr>\n",
       "      <th>3</th>\n",
       "      <td>1970-04-01</td>\n",
       "      <td>89956.0</td>\n",
       "    </tr>\n",
       "    <tr>\n",
       "      <th>4</th>\n",
       "      <td>1970-05-01</td>\n",
       "      <td>97972.0</td>\n",
       "    </tr>\n",
       "  </tbody>\n",
       "</table>\n",
       "</div>"
      ],
      "text/plain": [
       "         DATE  TRFVOLUSM227NFWA\n",
       "0  1970-01-01           80173.0\n",
       "1  1970-02-01           77442.0\n",
       "2  1970-03-01           90223.0\n",
       "3  1970-04-01           89956.0\n",
       "4  1970-05-01           97972.0"
      ]
     },
     "execution_count": 4,
     "metadata": {},
     "output_type": "execute_result"
    }
   ],
   "source": [
    "df.head()"
   ]
  },
  {
   "cell_type": "code",
   "execution_count": 5,
   "metadata": {},
   "outputs": [],
   "source": [
    "df.columns = ['ds','y']"
   ]
  },
  {
   "cell_type": "code",
   "execution_count": 6,
   "metadata": {},
   "outputs": [],
   "source": [
    "df['ds'] = pd.to_datetime(df['ds'])"
   ]
  },
  {
   "cell_type": "code",
   "execution_count": 9,
   "metadata": {},
   "outputs": [
    {
     "data": {
      "text/html": [
       "<div>\n",
       "<style scoped>\n",
       "    .dataframe tbody tr th:only-of-type {\n",
       "        vertical-align: middle;\n",
       "    }\n",
       "\n",
       "    .dataframe tbody tr th {\n",
       "        vertical-align: top;\n",
       "    }\n",
       "\n",
       "    .dataframe thead th {\n",
       "        text-align: right;\n",
       "    }\n",
       "</style>\n",
       "<table border=\"1\" class=\"dataframe\">\n",
       "  <thead>\n",
       "    <tr style=\"text-align: right;\">\n",
       "      <th></th>\n",
       "      <th>ds</th>\n",
       "      <th>y</th>\n",
       "    </tr>\n",
       "  </thead>\n",
       "  <tbody>\n",
       "    <tr>\n",
       "      <th>0</th>\n",
       "      <td>1970-01-01</td>\n",
       "      <td>80173.0</td>\n",
       "    </tr>\n",
       "    <tr>\n",
       "      <th>1</th>\n",
       "      <td>1970-02-01</td>\n",
       "      <td>77442.0</td>\n",
       "    </tr>\n",
       "    <tr>\n",
       "      <th>2</th>\n",
       "      <td>1970-03-01</td>\n",
       "      <td>90223.0</td>\n",
       "    </tr>\n",
       "    <tr>\n",
       "      <th>3</th>\n",
       "      <td>1970-04-01</td>\n",
       "      <td>89956.0</td>\n",
       "    </tr>\n",
       "    <tr>\n",
       "      <th>4</th>\n",
       "      <td>1970-05-01</td>\n",
       "      <td>97972.0</td>\n",
       "    </tr>\n",
       "  </tbody>\n",
       "</table>\n",
       "</div>"
      ],
      "text/plain": [
       "          ds        y\n",
       "0 1970-01-01  80173.0\n",
       "1 1970-02-01  77442.0\n",
       "2 1970-03-01  90223.0\n",
       "3 1970-04-01  89956.0\n",
       "4 1970-05-01  97972.0"
      ]
     },
     "execution_count": 9,
     "metadata": {},
     "output_type": "execute_result"
    }
   ],
   "source": [
    "df.head()"
   ]
  },
  {
   "cell_type": "code",
   "execution_count": 11,
   "metadata": {},
   "outputs": [
    {
     "name": "stdout",
     "output_type": "stream",
     "text": [
      "<class 'pandas.core.frame.DataFrame'>\n",
      "RangeIndex: 588 entries, 0 to 587\n",
      "Data columns (total 2 columns):\n",
      "ds    588 non-null datetime64[ns]\n",
      "y     588 non-null float64\n",
      "dtypes: datetime64[ns](1), float64(1)\n",
      "memory usage: 9.3 KB\n"
     ]
    }
   ],
   "source": [
    "df.info()"
   ]
  },
  {
   "cell_type": "code",
   "execution_count": 13,
   "metadata": {},
   "outputs": [
    {
     "data": {
      "text/plain": [
       "588"
      ]
     },
     "execution_count": 13,
     "metadata": {},
     "output_type": "execute_result"
    }
   ],
   "source": [
    "len(df)"
   ]
  },
  {
   "cell_type": "code",
   "execution_count": 14,
   "metadata": {},
   "outputs": [
    {
     "data": {
      "text/plain": [
       "576"
      ]
     },
     "execution_count": 14,
     "metadata": {},
     "output_type": "execute_result"
    }
   ],
   "source": [
    "len(df) - 12"
   ]
  },
  {
   "cell_type": "code",
   "execution_count": 15,
   "metadata": {},
   "outputs": [],
   "source": [
    "train = df.iloc[:576]\n",
    "test = df.iloc[576:]"
   ]
  },
  {
   "cell_type": "code",
   "execution_count": 16,
   "metadata": {},
   "outputs": [
    {
     "name": "stderr",
     "output_type": "stream",
     "text": [
      "INFO:fbprophet:Disabling weekly seasonality. Run prophet with weekly_seasonality=True to override this.\n",
      "INFO:fbprophet:Disabling daily seasonality. Run prophet with daily_seasonality=True to override this.\n"
     ]
    },
    {
     "data": {
      "text/plain": [
       "<fbprophet.forecaster.Prophet at 0x2a0507c44e0>"
      ]
     },
     "execution_count": 16,
     "metadata": {},
     "output_type": "execute_result"
    }
   ],
   "source": [
    "model = Prophet()\n",
    "model.fit(train)"
   ]
  },
  {
   "cell_type": "code",
   "execution_count": 17,
   "metadata": {},
   "outputs": [],
   "source": [
    "future = model.make_future_dataframe(periods=12,freq='MS')\n",
    "forecast = model.predict(future)"
   ]
  },
  {
   "cell_type": "code",
   "execution_count": 18,
   "metadata": {},
   "outputs": [
    {
     "data": {
      "text/html": [
       "<div>\n",
       "<style scoped>\n",
       "    .dataframe tbody tr th:only-of-type {\n",
       "        vertical-align: middle;\n",
       "    }\n",
       "\n",
       "    .dataframe tbody tr th {\n",
       "        vertical-align: top;\n",
       "    }\n",
       "\n",
       "    .dataframe thead th {\n",
       "        text-align: right;\n",
       "    }\n",
       "</style>\n",
       "<table border=\"1\" class=\"dataframe\">\n",
       "  <thead>\n",
       "    <tr style=\"text-align: right;\">\n",
       "      <th></th>\n",
       "      <th>ds</th>\n",
       "      <th>trend</th>\n",
       "      <th>yhat_lower</th>\n",
       "      <th>yhat_upper</th>\n",
       "      <th>trend_lower</th>\n",
       "      <th>trend_upper</th>\n",
       "      <th>additive_terms</th>\n",
       "      <th>additive_terms_lower</th>\n",
       "      <th>additive_terms_upper</th>\n",
       "      <th>yearly</th>\n",
       "      <th>yearly_lower</th>\n",
       "      <th>yearly_upper</th>\n",
       "      <th>multiplicative_terms</th>\n",
       "      <th>multiplicative_terms_lower</th>\n",
       "      <th>multiplicative_terms_upper</th>\n",
       "      <th>yhat</th>\n",
       "    </tr>\n",
       "  </thead>\n",
       "  <tbody>\n",
       "    <tr>\n",
       "      <th>583</th>\n",
       "      <td>2018-08-01</td>\n",
       "      <td>263219.378669</td>\n",
       "      <td>273502.136013</td>\n",
       "      <td>285818.876819</td>\n",
       "      <td>263189.617991</td>\n",
       "      <td>263241.102950</td>\n",
       "      <td>16451.125033</td>\n",
       "      <td>16451.125033</td>\n",
       "      <td>16451.125033</td>\n",
       "      <td>16451.125033</td>\n",
       "      <td>16451.125033</td>\n",
       "      <td>16451.125033</td>\n",
       "      <td>0.0</td>\n",
       "      <td>0.0</td>\n",
       "      <td>0.0</td>\n",
       "      <td>279670.503702</td>\n",
       "    </tr>\n",
       "    <tr>\n",
       "      <th>584</th>\n",
       "      <td>2018-09-01</td>\n",
       "      <td>263357.665883</td>\n",
       "      <td>255898.410082</td>\n",
       "      <td>267273.124488</td>\n",
       "      <td>263308.587057</td>\n",
       "      <td>263405.328087</td>\n",
       "      <td>-1666.545411</td>\n",
       "      <td>-1666.545411</td>\n",
       "      <td>-1666.545411</td>\n",
       "      <td>-1666.545411</td>\n",
       "      <td>-1666.545411</td>\n",
       "      <td>-1666.545411</td>\n",
       "      <td>0.0</td>\n",
       "      <td>0.0</td>\n",
       "      <td>0.0</td>\n",
       "      <td>261691.120472</td>\n",
       "    </tr>\n",
       "    <tr>\n",
       "      <th>585</th>\n",
       "      <td>2018-10-01</td>\n",
       "      <td>263491.492218</td>\n",
       "      <td>262949.786837</td>\n",
       "      <td>274978.336797</td>\n",
       "      <td>263417.208608</td>\n",
       "      <td>263558.128330</td>\n",
       "      <td>5310.587893</td>\n",
       "      <td>5310.587893</td>\n",
       "      <td>5310.587893</td>\n",
       "      <td>5310.587893</td>\n",
       "      <td>5310.587893</td>\n",
       "      <td>5310.587893</td>\n",
       "      <td>0.0</td>\n",
       "      <td>0.0</td>\n",
       "      <td>0.0</td>\n",
       "      <td>268802.080112</td>\n",
       "    </tr>\n",
       "    <tr>\n",
       "      <th>586</th>\n",
       "      <td>2018-11-01</td>\n",
       "      <td>263629.779432</td>\n",
       "      <td>249592.443490</td>\n",
       "      <td>261097.980088</td>\n",
       "      <td>263516.201028</td>\n",
       "      <td>263716.236277</td>\n",
       "      <td>-8203.436940</td>\n",
       "      <td>-8203.436940</td>\n",
       "      <td>-8203.436940</td>\n",
       "      <td>-8203.436940</td>\n",
       "      <td>-8203.436940</td>\n",
       "      <td>-8203.436940</td>\n",
       "      <td>0.0</td>\n",
       "      <td>0.0</td>\n",
       "      <td>0.0</td>\n",
       "      <td>255426.342492</td>\n",
       "    </tr>\n",
       "    <tr>\n",
       "      <th>587</th>\n",
       "      <td>2018-12-01</td>\n",
       "      <td>263763.605767</td>\n",
       "      <td>250973.863515</td>\n",
       "      <td>262771.899880</td>\n",
       "      <td>263630.432614</td>\n",
       "      <td>263876.565532</td>\n",
       "      <td>-6916.514689</td>\n",
       "      <td>-6916.514689</td>\n",
       "      <td>-6916.514689</td>\n",
       "      <td>-6916.514689</td>\n",
       "      <td>-6916.514689</td>\n",
       "      <td>-6916.514689</td>\n",
       "      <td>0.0</td>\n",
       "      <td>0.0</td>\n",
       "      <td>0.0</td>\n",
       "      <td>256847.091078</td>\n",
       "    </tr>\n",
       "  </tbody>\n",
       "</table>\n",
       "</div>"
      ],
      "text/plain": [
       "            ds          trend     yhat_lower     yhat_upper    trend_lower  \\\n",
       "583 2018-08-01  263219.378669  273502.136013  285818.876819  263189.617991   \n",
       "584 2018-09-01  263357.665883  255898.410082  267273.124488  263308.587057   \n",
       "585 2018-10-01  263491.492218  262949.786837  274978.336797  263417.208608   \n",
       "586 2018-11-01  263629.779432  249592.443490  261097.980088  263516.201028   \n",
       "587 2018-12-01  263763.605767  250973.863515  262771.899880  263630.432614   \n",
       "\n",
       "       trend_upper  additive_terms  additive_terms_lower  \\\n",
       "583  263241.102950    16451.125033          16451.125033   \n",
       "584  263405.328087    -1666.545411          -1666.545411   \n",
       "585  263558.128330     5310.587893           5310.587893   \n",
       "586  263716.236277    -8203.436940          -8203.436940   \n",
       "587  263876.565532    -6916.514689          -6916.514689   \n",
       "\n",
       "     additive_terms_upper        yearly  yearly_lower  yearly_upper  \\\n",
       "583          16451.125033  16451.125033  16451.125033  16451.125033   \n",
       "584          -1666.545411  -1666.545411  -1666.545411  -1666.545411   \n",
       "585           5310.587893   5310.587893   5310.587893   5310.587893   \n",
       "586          -8203.436940  -8203.436940  -8203.436940  -8203.436940   \n",
       "587          -6916.514689  -6916.514689  -6916.514689  -6916.514689   \n",
       "\n",
       "     multiplicative_terms  multiplicative_terms_lower  \\\n",
       "583                   0.0                         0.0   \n",
       "584                   0.0                         0.0   \n",
       "585                   0.0                         0.0   \n",
       "586                   0.0                         0.0   \n",
       "587                   0.0                         0.0   \n",
       "\n",
       "     multiplicative_terms_upper           yhat  \n",
       "583                         0.0  279670.503702  \n",
       "584                         0.0  261691.120472  \n",
       "585                         0.0  268802.080112  \n",
       "586                         0.0  255426.342492  \n",
       "587                         0.0  256847.091078  "
      ]
     },
     "execution_count": 18,
     "metadata": {},
     "output_type": "execute_result"
    }
   ],
   "source": [
    "forecast.tail()"
   ]
  },
  {
   "cell_type": "code",
   "execution_count": 19,
   "metadata": {},
   "outputs": [
    {
     "data": {
      "text/plain": [
       "Index(['ds', 'trend', 'yhat_lower', 'yhat_upper', 'trend_lower', 'trend_upper',\n",
       "       'additive_terms', 'additive_terms_lower', 'additive_terms_upper',\n",
       "       'yearly', 'yearly_lower', 'yearly_upper', 'multiplicative_terms',\n",
       "       'multiplicative_terms_lower', 'multiplicative_terms_upper', 'yhat'],\n",
       "      dtype='object')"
      ]
     },
     "execution_count": 19,
     "metadata": {},
     "output_type": "execute_result"
    }
   ],
   "source": [
    "forecast.columns"
   ]
  },
  {
   "cell_type": "code",
   "execution_count": 20,
   "metadata": {},
   "outputs": [
    {
     "data": {
      "text/html": [
       "<div>\n",
       "<style scoped>\n",
       "    .dataframe tbody tr th:only-of-type {\n",
       "        vertical-align: middle;\n",
       "    }\n",
       "\n",
       "    .dataframe tbody tr th {\n",
       "        vertical-align: top;\n",
       "    }\n",
       "\n",
       "    .dataframe thead th {\n",
       "        text-align: right;\n",
       "    }\n",
       "</style>\n",
       "<table border=\"1\" class=\"dataframe\">\n",
       "  <thead>\n",
       "    <tr style=\"text-align: right;\">\n",
       "      <th></th>\n",
       "      <th>ds</th>\n",
       "      <th>yhat</th>\n",
       "      <th>yhat_lower</th>\n",
       "      <th>yhat_upper</th>\n",
       "      <th>trend</th>\n",
       "    </tr>\n",
       "  </thead>\n",
       "  <tbody>\n",
       "    <tr>\n",
       "      <th>583</th>\n",
       "      <td>2018-08-01</td>\n",
       "      <td>279670.503702</td>\n",
       "      <td>273502.136013</td>\n",
       "      <td>285818.876819</td>\n",
       "      <td>263219.378669</td>\n",
       "    </tr>\n",
       "    <tr>\n",
       "      <th>584</th>\n",
       "      <td>2018-09-01</td>\n",
       "      <td>261691.120472</td>\n",
       "      <td>255898.410082</td>\n",
       "      <td>267273.124488</td>\n",
       "      <td>263357.665883</td>\n",
       "    </tr>\n",
       "    <tr>\n",
       "      <th>585</th>\n",
       "      <td>2018-10-01</td>\n",
       "      <td>268802.080112</td>\n",
       "      <td>262949.786837</td>\n",
       "      <td>274978.336797</td>\n",
       "      <td>263491.492218</td>\n",
       "    </tr>\n",
       "    <tr>\n",
       "      <th>586</th>\n",
       "      <td>2018-11-01</td>\n",
       "      <td>255426.342492</td>\n",
       "      <td>249592.443490</td>\n",
       "      <td>261097.980088</td>\n",
       "      <td>263629.779432</td>\n",
       "    </tr>\n",
       "    <tr>\n",
       "      <th>587</th>\n",
       "      <td>2018-12-01</td>\n",
       "      <td>256847.091078</td>\n",
       "      <td>250973.863515</td>\n",
       "      <td>262771.899880</td>\n",
       "      <td>263763.605767</td>\n",
       "    </tr>\n",
       "  </tbody>\n",
       "</table>\n",
       "</div>"
      ],
      "text/plain": [
       "            ds           yhat     yhat_lower     yhat_upper          trend\n",
       "583 2018-08-01  279670.503702  273502.136013  285818.876819  263219.378669\n",
       "584 2018-09-01  261691.120472  255898.410082  267273.124488  263357.665883\n",
       "585 2018-10-01  268802.080112  262949.786837  274978.336797  263491.492218\n",
       "586 2018-11-01  255426.342492  249592.443490  261097.980088  263629.779432\n",
       "587 2018-12-01  256847.091078  250973.863515  262771.899880  263763.605767"
      ]
     },
     "execution_count": 20,
     "metadata": {},
     "output_type": "execute_result"
    }
   ],
   "source": [
    "pred_test = forecast[['ds', 'yhat', 'yhat_lower', 'yhat_upper','trend']]\n",
    "pred_test.tail()"
   ]
  },
  {
   "cell_type": "code",
   "execution_count": 195,
   "metadata": {},
   "outputs": [
    {
     "data": {
      "text/html": [
       "<div>\n",
       "<style scoped>\n",
       "    .dataframe tbody tr th:only-of-type {\n",
       "        vertical-align: middle;\n",
       "    }\n",
       "\n",
       "    .dataframe tbody tr th {\n",
       "        vertical-align: top;\n",
       "    }\n",
       "\n",
       "    .dataframe thead th {\n",
       "        text-align: right;\n",
       "    }\n",
       "</style>\n",
       "<table border=\"1\" class=\"dataframe\">\n",
       "  <thead>\n",
       "    <tr style=\"text-align: right;\">\n",
       "      <th></th>\n",
       "      <th>ds</th>\n",
       "      <th>y</th>\n",
       "    </tr>\n",
       "  </thead>\n",
       "  <tbody>\n",
       "    <tr>\n",
       "      <th>583</th>\n",
       "      <td>2018-08-01</td>\n",
       "      <td>286608.0</td>\n",
       "    </tr>\n",
       "    <tr>\n",
       "      <th>584</th>\n",
       "      <td>2018-09-01</td>\n",
       "      <td>260595.0</td>\n",
       "    </tr>\n",
       "    <tr>\n",
       "      <th>585</th>\n",
       "      <td>2018-10-01</td>\n",
       "      <td>282174.0</td>\n",
       "    </tr>\n",
       "    <tr>\n",
       "      <th>586</th>\n",
       "      <td>2018-11-01</td>\n",
       "      <td>258590.0</td>\n",
       "    </tr>\n",
       "    <tr>\n",
       "      <th>587</th>\n",
       "      <td>2018-12-01</td>\n",
       "      <td>268413.0</td>\n",
       "    </tr>\n",
       "  </tbody>\n",
       "</table>\n",
       "</div>"
      ],
      "text/plain": [
       "            ds         y\n",
       "583 2018-08-01  286608.0\n",
       "584 2018-09-01  260595.0\n",
       "585 2018-10-01  282174.0\n",
       "586 2018-11-01  258590.0\n",
       "587 2018-12-01  268413.0"
      ]
     },
     "execution_count": 195,
     "metadata": {},
     "output_type": "execute_result"
    }
   ],
   "source": [
    "test.tail()"
   ]
  },
  {
   "cell_type": "markdown",
   "metadata": {},
   "source": [
    "[Info on ax= parameter](https://stackoverflow.com/questions/13872533/plot-different-dataframes-in-the-same-figure)"
   ]
  },
  {
   "cell_type": "code",
   "execution_count": 23,
   "metadata": {},
   "outputs": [
    {
     "data": {
      "image/png": "[encoded data removed]",
      "text/plain": [
       "<Figure size 864x576 with 1 Axes>"
      ]
     },
     "metadata": {
      "needs_background": "light"
     },
     "output_type": "display_data"
    }
   ],
   "source": [
    "ax = forecast.plot(x='ds',y='yhat',label='Predictions',legend=True,figsize=(12,8))"
   ]
  },
  {
   "cell_type": "code",
   "execution_count": 24,
   "metadata": {},
   "outputs": [
    {
     "data": {
      "text/plain": [
       "<matplotlib.axes._subplots.AxesSubplot at 0x2a0529dab38>"
      ]
     },
     "execution_count": 24,
     "metadata": {},
     "output_type": "execute_result"
    },
    {
     "data": {
      "image/png": "[encoded data removed]",
      "text/plain": [
       "<Figure size 864x576 with 1 Axes>"
      ]
     },
     "metadata": {
      "needs_background": "light"
     },
     "output_type": "display_data"
    }
   ],
   "source": [
    "ax = forecast.plot(x='ds',y='yhat',label='Predictions',legend=True,figsize=(12,8))\n",
    "\n",
    "test.plot(x='ds',y='y',label='True Miles',legend=True,ax=ax,xlim=('2018-01-01','2019-01-01'))"
   ]
  },
  {
   "cell_type": "code",
   "execution_count": 25,
   "metadata": {},
   "outputs": [],
   "source": [
    "from statsmodels.tools.eval_measures import rmse"
   ]
  },
  {
   "cell_type": "code",
   "execution_count": 26,
   "metadata": {},
   "outputs": [],
   "source": [
    "predictions = forecast.iloc[-12:]['yhat']"
   ]
  },
  {
   "cell_type": "code",
   "execution_count": 27,
   "metadata": {},
   "outputs": [
    {
     "data": {
      "text/plain": [
       "576    243683.663737\n",
       "577    235311.776917\n",
       "578    262511.200772\n",
       "579    262708.863987\n",
       "580    272429.495856\n",
       "581    272679.913346\n",
       "582    279136.474721\n",
       "583    279670.503702\n",
       "584    261691.120472\n",
       "585    268802.080112\n",
       "586    255426.342492\n",
       "587    256847.091078\n",
       "Name: yhat, dtype: float64"
      ]
     },
     "execution_count": 27,
     "metadata": {},
     "output_type": "execute_result"
    }
   ],
   "source": [
    "predictions"
   ]
  },
  {
   "cell_type": "code",
   "execution_count": 28,
   "metadata": {},
   "outputs": [
    {
     "data": {
      "text/plain": [
       "576    245695.0\n",
       "577    226660.0\n",
       "578    268480.0\n",
       "579    272475.0\n",
       "580    286164.0\n",
       "581    280877.0\n",
       "582    288145.0\n",
       "583    286608.0\n",
       "584    260595.0\n",
       "585    282174.0\n",
       "586    258590.0\n",
       "587    268413.0\n",
       "Name: y, dtype: float64"
      ]
     },
     "execution_count": 28,
     "metadata": {},
     "output_type": "execute_result"
    }
   ],
   "source": [
    "test['y']"
   ]
  },
  {
   "cell_type": "code",
   "execution_count": 29,
   "metadata": {},
   "outputs": [
    {
     "data": {
      "text/plain": [
       "8750.25052083061"
      ]
     },
     "execution_count": 29,
     "metadata": {},
     "output_type": "execute_result"
    }
   ],
   "source": [
    "rmse(predictions,test['y'])"
   ]
  },
  {
   "cell_type": "code",
   "execution_count": 30,
   "metadata": {},
   "outputs": [
    {
     "data": {
      "text/plain": [
       "y    268739.666667\n",
       "dtype: float64"
      ]
     },
     "execution_count": 30,
     "metadata": {},
     "output_type": "execute_result"
    }
   ],
   "source": [
    "test.mean()"
   ]
  },
  {
   "cell_type": "markdown",
   "metadata": {},
   "source": [
    "# Prophet Diagnostics\n",
    "\n",
    "Prophet includes functionality for time series cross validation to measure forecast error using historical data. This is done by selecting cutoff points in the history, and for each of them fitting the model using data only up to that cutoff point. We can then compare the forecasted values to the actual values."
   ]
  },
  {
   "cell_type": "code",
   "execution_count": 31,
   "metadata": {},
   "outputs": [],
   "source": [
    "from fbprophet.diagnostics import cross_validation,performance_metrics\n",
    "from fbprophet.plot import plot_cross_validation_metric"
   ]
  },
  {
   "cell_type": "code",
   "execution_count": 32,
   "metadata": {},
   "outputs": [
    {
     "data": {
      "text/plain": [
       "588"
      ]
     },
     "execution_count": 32,
     "metadata": {},
     "output_type": "execute_result"
    }
   ],
   "source": [
    "len(df)"
   ]
  },
  {
   "cell_type": "code",
   "execution_count": 33,
   "metadata": {},
   "outputs": [
    {
     "data": {
      "text/plain": [
       "49.0"
      ]
     },
     "execution_count": 33,
     "metadata": {},
     "output_type": "execute_result"
    }
   ],
   "source": [
    "len(df)/12"
   ]
  },
  {
   "cell_type": "markdown",
   "metadata": {},
   "source": [
    "The initial period should be long enough to capture all of the components of the model, in particular seasonalities and extra regressors: at least a year for yearly seasonality, at least a week for weekly seasonality, etc."
   ]
  },
  {
   "cell_type": "code",
   "execution_count": 207,
   "metadata": {},
   "outputs": [],
   "source": [
    "# help(pd.Timedelta)"
   ]
  },
  {
   "cell_type": "code",
   "execution_count": 162,
   "metadata": {},
   "outputs": [],
   "source": [
    "# Initial 5 years training period\n",
    "initial = 5 * 365\n",
    "initial = str(initial) + ' days'\n",
    "# Fold every 5 years\n",
    "period = 5 * 365\n",
    "period = str(period) + ' days'\n",
    "# Forecast 1 year into the future\n",
    "horizon = 365\n",
    "horizon = str(horizon) + ' days'"
   ]
  },
  {
   "cell_type": "code",
   "execution_count": 210,
   "metadata": {},
   "outputs": [
    {
     "name": "stderr",
     "output_type": "stream",
     "text": [
      "INFO:fbprophet:Making 9 forecasts with cutoffs between 1976-12-11 00:00:00 and 2016-12-01 00:00:00\n",
      "/anaconda3/lib/python3.6/site-packages/pystan/misc.py:399: FutureWarning: Conversion of the second argument of issubdtype from `float` to `np.floating` is deprecated. In future, it will be treated as `np.float64 == np.dtype(float).type`.\n",
      "  elif np.issubdtype(np.asarray(v).dtype, float):\n"
     ]
    }
   ],
   "source": [
    "df_cv = cross_validation(m, initial=initial, period=period, horizon = horizon)"
   ]
  },
  {
   "cell_type": "code",
   "execution_count": 213,
   "metadata": {},
   "outputs": [
    {
     "data": {
      "text/html": [
       "<div>\n",
       "<style scoped>\n",
       "    .dataframe tbody tr th:only-of-type {\n",
       "        vertical-align: middle;\n",
       "    }\n",
       "\n",
       "    .dataframe tbody tr th {\n",
       "        vertical-align: top;\n",
       "    }\n",
       "\n",
       "    .dataframe thead th {\n",
       "        text-align: right;\n",
       "    }\n",
       "</style>\n",
       "<table border=\"1\" class=\"dataframe\">\n",
       "  <thead>\n",
       "    <tr style=\"text-align: right;\">\n",
       "      <th></th>\n",
       "      <th>ds</th>\n",
       "      <th>yhat</th>\n",
       "      <th>yhat_lower</th>\n",
       "      <th>yhat_upper</th>\n",
       "      <th>y</th>\n",
       "      <th>cutoff</th>\n",
       "    </tr>\n",
       "  </thead>\n",
       "  <tbody>\n",
       "    <tr>\n",
       "      <th>0</th>\n",
       "      <td>1977-01-01</td>\n",
       "      <td>108545.172580</td>\n",
       "      <td>107099.748151</td>\n",
       "      <td>110016.346952</td>\n",
       "      <td>102445.0</td>\n",
       "      <td>1976-12-11</td>\n",
       "    </tr>\n",
       "    <tr>\n",
       "      <th>1</th>\n",
       "      <td>1977-02-01</td>\n",
       "      <td>103082.245846</td>\n",
       "      <td>101525.992338</td>\n",
       "      <td>104689.450272</td>\n",
       "      <td>102416.0</td>\n",
       "      <td>1976-12-11</td>\n",
       "    </tr>\n",
       "    <tr>\n",
       "      <th>2</th>\n",
       "      <td>1977-03-01</td>\n",
       "      <td>118966.635618</td>\n",
       "      <td>117449.707291</td>\n",
       "      <td>120459.804913</td>\n",
       "      <td>119960.0</td>\n",
       "      <td>1976-12-11</td>\n",
       "    </tr>\n",
       "    <tr>\n",
       "      <th>3</th>\n",
       "      <td>1977-04-01</td>\n",
       "      <td>120606.270683</td>\n",
       "      <td>119041.821340</td>\n",
       "      <td>122263.557564</td>\n",
       "      <td>121513.0</td>\n",
       "      <td>1976-12-11</td>\n",
       "    </tr>\n",
       "    <tr>\n",
       "      <th>4</th>\n",
       "      <td>1977-05-01</td>\n",
       "      <td>127889.386836</td>\n",
       "      <td>126347.199524</td>\n",
       "      <td>129456.699558</td>\n",
       "      <td>128884.0</td>\n",
       "      <td>1976-12-11</td>\n",
       "    </tr>\n",
       "  </tbody>\n",
       "</table>\n",
       "</div>"
      ],
      "text/plain": [
       "          ds           yhat     yhat_lower     yhat_upper         y     cutoff\n",
       "0 1977-01-01  108545.172580  107099.748151  110016.346952  102445.0 1976-12-11\n",
       "1 1977-02-01  103082.245846  101525.992338  104689.450272  102416.0 1976-12-11\n",
       "2 1977-03-01  118966.635618  117449.707291  120459.804913  119960.0 1976-12-11\n",
       "3 1977-04-01  120606.270683  119041.821340  122263.557564  121513.0 1976-12-11\n",
       "4 1977-05-01  127889.386836  126347.199524  129456.699558  128884.0 1976-12-11"
      ]
     },
     "execution_count": 213,
     "metadata": {},
     "output_type": "execute_result"
    }
   ],
   "source": [
    "df_cv.head()"
   ]
  },
  {
   "cell_type": "code",
   "execution_count": 214,
   "metadata": {},
   "outputs": [
    {
     "data": {
      "text/html": [
       "<div>\n",
       "<style scoped>\n",
       "    .dataframe tbody tr th:only-of-type {\n",
       "        vertical-align: middle;\n",
       "    }\n",
       "\n",
       "    .dataframe tbody tr th {\n",
       "        vertical-align: top;\n",
       "    }\n",
       "\n",
       "    .dataframe thead th {\n",
       "        text-align: right;\n",
       "    }\n",
       "</style>\n",
       "<table border=\"1\" class=\"dataframe\">\n",
       "  <thead>\n",
       "    <tr style=\"text-align: right;\">\n",
       "      <th></th>\n",
       "      <th>ds</th>\n",
       "      <th>yhat</th>\n",
       "      <th>yhat_lower</th>\n",
       "      <th>yhat_upper</th>\n",
       "      <th>y</th>\n",
       "      <th>cutoff</th>\n",
       "    </tr>\n",
       "  </thead>\n",
       "  <tbody>\n",
       "    <tr>\n",
       "      <th>103</th>\n",
       "      <td>2017-08-01</td>\n",
       "      <td>273254.523501</td>\n",
       "      <td>267202.320371</td>\n",
       "      <td>279511.599691</td>\n",
       "      <td>283184.0</td>\n",
       "      <td>2016-12-01</td>\n",
       "    </tr>\n",
       "    <tr>\n",
       "      <th>104</th>\n",
       "      <td>2017-09-01</td>\n",
       "      <td>255372.720203</td>\n",
       "      <td>249330.743827</td>\n",
       "      <td>261084.844672</td>\n",
       "      <td>262673.0</td>\n",
       "      <td>2016-12-01</td>\n",
       "    </tr>\n",
       "    <tr>\n",
       "      <th>105</th>\n",
       "      <td>2017-10-01</td>\n",
       "      <td>262476.518564</td>\n",
       "      <td>256769.520993</td>\n",
       "      <td>268001.419001</td>\n",
       "      <td>278937.0</td>\n",
       "      <td>2016-12-01</td>\n",
       "    </tr>\n",
       "    <tr>\n",
       "      <th>106</th>\n",
       "      <td>2017-11-01</td>\n",
       "      <td>249126.648938</td>\n",
       "      <td>243459.338900</td>\n",
       "      <td>254747.159187</td>\n",
       "      <td>257712.0</td>\n",
       "      <td>2016-12-01</td>\n",
       "    </tr>\n",
       "    <tr>\n",
       "      <th>107</th>\n",
       "      <td>2017-12-01</td>\n",
       "      <td>250371.688410</td>\n",
       "      <td>244625.193390</td>\n",
       "      <td>256090.260107</td>\n",
       "      <td>266535.0</td>\n",
       "      <td>2016-12-01</td>\n",
       "    </tr>\n",
       "  </tbody>\n",
       "</table>\n",
       "</div>"
      ],
      "text/plain": [
       "            ds           yhat     yhat_lower     yhat_upper         y  \\\n",
       "103 2017-08-01  273254.523501  267202.320371  279511.599691  283184.0   \n",
       "104 2017-09-01  255372.720203  249330.743827  261084.844672  262673.0   \n",
       "105 2017-10-01  262476.518564  256769.520993  268001.419001  278937.0   \n",
       "106 2017-11-01  249126.648938  243459.338900  254747.159187  257712.0   \n",
       "107 2017-12-01  250371.688410  244625.193390  256090.260107  266535.0   \n",
       "\n",
       "        cutoff  \n",
       "103 2016-12-01  \n",
       "104 2016-12-01  \n",
       "105 2016-12-01  \n",
       "106 2016-12-01  \n",
       "107 2016-12-01  "
      ]
     },
     "execution_count": 214,
     "metadata": {},
     "output_type": "execute_result"
    }
   ],
   "source": [
    "df_cv.tail()"
   ]
  },
  {
   "cell_type": "code",
   "execution_count": 215,
   "metadata": {},
   "outputs": [
    {
     "data": {
      "text/html": [
       "<div>\n",
       "<style scoped>\n",
       "    .dataframe tbody tr th:only-of-type {\n",
       "        vertical-align: middle;\n",
       "    }\n",
       "\n",
       "    .dataframe tbody tr th {\n",
       "        vertical-align: top;\n",
       "    }\n",
       "\n",
       "    .dataframe thead th {\n",
       "        text-align: right;\n",
       "    }\n",
       "</style>\n",
       "<table border=\"1\" class=\"dataframe\">\n",
       "  <thead>\n",
       "    <tr style=\"text-align: right;\">\n",
       "      <th></th>\n",
       "      <th>horizon</th>\n",
       "      <th>mse</th>\n",
       "      <th>rmse</th>\n",
       "      <th>mae</th>\n",
       "      <th>mape</th>\n",
       "      <th>coverage</th>\n",
       "    </tr>\n",
       "  </thead>\n",
       "  <tbody>\n",
       "    <tr>\n",
       "      <th>1</th>\n",
       "      <td>52 days</td>\n",
       "      <td>2.484109e+07</td>\n",
       "      <td>4984.083210</td>\n",
       "      <td>4590.014835</td>\n",
       "      <td>0.028137</td>\n",
       "      <td>0.3</td>\n",
       "    </tr>\n",
       "    <tr>\n",
       "      <th>13</th>\n",
       "      <td>53 days</td>\n",
       "      <td>2.226842e+07</td>\n",
       "      <td>4718.943023</td>\n",
       "      <td>4318.899977</td>\n",
       "      <td>0.025335</td>\n",
       "      <td>0.3</td>\n",
       "    </tr>\n",
       "    <tr>\n",
       "      <th>25</th>\n",
       "      <td>54 days</td>\n",
       "      <td>1.882583e+07</td>\n",
       "      <td>4338.874820</td>\n",
       "      <td>3803.991852</td>\n",
       "      <td>0.020509</td>\n",
       "      <td>0.4</td>\n",
       "    </tr>\n",
       "    <tr>\n",
       "      <th>37</th>\n",
       "      <td>55 days</td>\n",
       "      <td>2.374039e+07</td>\n",
       "      <td>4872.411127</td>\n",
       "      <td>4319.472747</td>\n",
       "      <td>0.023528</td>\n",
       "      <td>0.3</td>\n",
       "    </tr>\n",
       "    <tr>\n",
       "      <th>49</th>\n",
       "      <td>57 days</td>\n",
       "      <td>2.150039e+07</td>\n",
       "      <td>4636.851520</td>\n",
       "      <td>4050.449106</td>\n",
       "      <td>0.021775</td>\n",
       "      <td>0.4</td>\n",
       "    </tr>\n",
       "    <tr>\n",
       "      <th>61</th>\n",
       "      <td>58 days</td>\n",
       "      <td>2.377014e+07</td>\n",
       "      <td>4875.463292</td>\n",
       "      <td>4327.071181</td>\n",
       "      <td>0.022979</td>\n",
       "      <td>0.3</td>\n",
       "    </tr>\n",
       "    <tr>\n",
       "      <th>73</th>\n",
       "      <td>59 days</td>\n",
       "      <td>3.857268e+07</td>\n",
       "      <td>6210.691064</td>\n",
       "      <td>5144.794773</td>\n",
       "      <td>0.026666</td>\n",
       "      <td>0.3</td>\n",
       "    </tr>\n",
       "    <tr>\n",
       "      <th>85</th>\n",
       "      <td>60 days</td>\n",
       "      <td>3.959640e+07</td>\n",
       "      <td>6292.566974</td>\n",
       "      <td>5229.654576</td>\n",
       "      <td>0.027225</td>\n",
       "      <td>0.3</td>\n",
       "    </tr>\n",
       "    <tr>\n",
       "      <th>97</th>\n",
       "      <td>62 days</td>\n",
       "      <td>3.773627e+07</td>\n",
       "      <td>6142.985167</td>\n",
       "      <td>4985.238970</td>\n",
       "      <td>0.026153</td>\n",
       "      <td>0.4</td>\n",
       "    </tr>\n",
       "    <tr>\n",
       "      <th>2</th>\n",
       "      <td>80 days</td>\n",
       "      <td>3.264865e+07</td>\n",
       "      <td>5713.899872</td>\n",
       "      <td>4364.416238</td>\n",
       "      <td>0.024037</td>\n",
       "      <td>0.5</td>\n",
       "    </tr>\n",
       "    <tr>\n",
       "      <th>14</th>\n",
       "      <td>81 days</td>\n",
       "      <td>3.287214e+07</td>\n",
       "      <td>5733.423310</td>\n",
       "      <td>4461.461888</td>\n",
       "      <td>0.024663</td>\n",
       "      <td>0.5</td>\n",
       "    </tr>\n",
       "    <tr>\n",
       "      <th>26</th>\n",
       "      <td>82 days</td>\n",
       "      <td>3.273578e+07</td>\n",
       "      <td>5721.519435</td>\n",
       "      <td>4440.708849</td>\n",
       "      <td>0.023530</td>\n",
       "      <td>0.6</td>\n",
       "    </tr>\n",
       "    <tr>\n",
       "      <th>38</th>\n",
       "      <td>84 days</td>\n",
       "      <td>3.384815e+07</td>\n",
       "      <td>5817.916077</td>\n",
       "      <td>4706.128999</td>\n",
       "      <td>0.024828</td>\n",
       "      <td>0.6</td>\n",
       "    </tr>\n",
       "    <tr>\n",
       "      <th>50</th>\n",
       "      <td>85 days</td>\n",
       "      <td>2.983983e+07</td>\n",
       "      <td>5462.584849</td>\n",
       "      <td>4343.936561</td>\n",
       "      <td>0.022000</td>\n",
       "      <td>0.7</td>\n",
       "    </tr>\n",
       "    <tr>\n",
       "      <th>62</th>\n",
       "      <td>86 days</td>\n",
       "      <td>2.905115e+07</td>\n",
       "      <td>5389.912117</td>\n",
       "      <td>4085.532750</td>\n",
       "      <td>0.020567</td>\n",
       "      <td>0.7</td>\n",
       "    </tr>\n",
       "    <tr>\n",
       "      <th>74</th>\n",
       "      <td>87 days</td>\n",
       "      <td>2.775881e+07</td>\n",
       "      <td>5268.662783</td>\n",
       "      <td>3951.324112</td>\n",
       "      <td>0.019528</td>\n",
       "      <td>0.8</td>\n",
       "    </tr>\n",
       "    <tr>\n",
       "      <th>86</th>\n",
       "      <td>89 days</td>\n",
       "      <td>1.430251e+07</td>\n",
       "      <td>3781.865304</td>\n",
       "      <td>3254.512729</td>\n",
       "      <td>0.015944</td>\n",
       "      <td>0.8</td>\n",
       "    </tr>\n",
       "    <tr>\n",
       "      <th>98</th>\n",
       "      <td>90 days</td>\n",
       "      <td>2.108837e+07</td>\n",
       "      <td>4592.207361</td>\n",
       "      <td>3655.515480</td>\n",
       "      <td>0.016900</td>\n",
       "      <td>0.8</td>\n",
       "    </tr>\n",
       "    <tr>\n",
       "      <th>3</th>\n",
       "      <td>111 days</td>\n",
       "      <td>2.050330e+07</td>\n",
       "      <td>4528.056835</td>\n",
       "      <td>3487.869704</td>\n",
       "      <td>0.016508</td>\n",
       "      <td>0.8</td>\n",
       "    </tr>\n",
       "    <tr>\n",
       "      <th>15</th>\n",
       "      <td>112 days</td>\n",
       "      <td>2.102938e+07</td>\n",
       "      <td>4585.780229</td>\n",
       "      <td>3638.485039</td>\n",
       "      <td>0.017605</td>\n",
       "      <td>0.8</td>\n",
       "    </tr>\n",
       "    <tr>\n",
       "      <th>27</th>\n",
       "      <td>113 days</td>\n",
       "      <td>2.267923e+07</td>\n",
       "      <td>4762.271752</td>\n",
       "      <td>3912.733905</td>\n",
       "      <td>0.019068</td>\n",
       "      <td>0.7</td>\n",
       "    </tr>\n",
       "    <tr>\n",
       "      <th>39</th>\n",
       "      <td>115 days</td>\n",
       "      <td>2.221524e+07</td>\n",
       "      <td>4713.304385</td>\n",
       "      <td>3828.720432</td>\n",
       "      <td>0.018308</td>\n",
       "      <td>0.7</td>\n",
       "    </tr>\n",
       "    <tr>\n",
       "      <th>51</th>\n",
       "      <td>116 days</td>\n",
       "      <td>2.148911e+07</td>\n",
       "      <td>4635.634353</td>\n",
       "      <td>3697.477130</td>\n",
       "      <td>0.017444</td>\n",
       "      <td>0.7</td>\n",
       "    </tr>\n",
       "    <tr>\n",
       "      <th>63</th>\n",
       "      <td>117 days</td>\n",
       "      <td>2.010623e+07</td>\n",
       "      <td>4483.996740</td>\n",
       "      <td>3341.901127</td>\n",
       "      <td>0.015758</td>\n",
       "      <td>0.7</td>\n",
       "    </tr>\n",
       "    <tr>\n",
       "      <th>75</th>\n",
       "      <td>118 days</td>\n",
       "      <td>2.133499e+07</td>\n",
       "      <td>4618.981764</td>\n",
       "      <td>3669.814813</td>\n",
       "      <td>0.017050</td>\n",
       "      <td>0.7</td>\n",
       "    </tr>\n",
       "    <tr>\n",
       "      <th>87</th>\n",
       "      <td>120 days</td>\n",
       "      <td>1.967055e+07</td>\n",
       "      <td>4435.148827</td>\n",
       "      <td>3327.928592</td>\n",
       "      <td>0.015744</td>\n",
       "      <td>0.7</td>\n",
       "    </tr>\n",
       "    <tr>\n",
       "      <th>99</th>\n",
       "      <td>121 days</td>\n",
       "      <td>4.166916e+07</td>\n",
       "      <td>6455.165095</td>\n",
       "      <td>4317.240942</td>\n",
       "      <td>0.019222</td>\n",
       "      <td>0.7</td>\n",
       "    </tr>\n",
       "    <tr>\n",
       "      <th>4</th>\n",
       "      <td>141 days</td>\n",
       "      <td>3.081409e+07</td>\n",
       "      <td>5551.044078</td>\n",
       "      <td>3370.089073</td>\n",
       "      <td>0.016079</td>\n",
       "      <td>0.8</td>\n",
       "    </tr>\n",
       "    <tr>\n",
       "      <th>16</th>\n",
       "      <td>142 days</td>\n",
       "      <td>3.438259e+07</td>\n",
       "      <td>5863.667285</td>\n",
       "      <td>3883.627983</td>\n",
       "      <td>0.019640</td>\n",
       "      <td>0.7</td>\n",
       "    </tr>\n",
       "    <tr>\n",
       "      <th>28</th>\n",
       "      <td>143 days</td>\n",
       "      <td>3.514306e+07</td>\n",
       "      <td>5928.158078</td>\n",
       "      <td>4005.862058</td>\n",
       "      <td>0.019933</td>\n",
       "      <td>0.6</td>\n",
       "    </tr>\n",
       "    <tr>\n",
       "      <th>...</th>\n",
       "      <td>...</td>\n",
       "      <td>...</td>\n",
       "      <td>...</td>\n",
       "      <td>...</td>\n",
       "      <td>...</td>\n",
       "      <td>...</td>\n",
       "    </tr>\n",
       "    <tr>\n",
       "      <th>80</th>\n",
       "      <td>271 days</td>\n",
       "      <td>3.987511e+07</td>\n",
       "      <td>6314.674121</td>\n",
       "      <td>4976.697924</td>\n",
       "      <td>0.023250</td>\n",
       "      <td>0.4</td>\n",
       "    </tr>\n",
       "    <tr>\n",
       "      <th>92</th>\n",
       "      <td>273 days</td>\n",
       "      <td>4.844885e+07</td>\n",
       "      <td>6960.520511</td>\n",
       "      <td>5553.268374</td>\n",
       "      <td>0.025891</td>\n",
       "      <td>0.4</td>\n",
       "    </tr>\n",
       "    <tr>\n",
       "      <th>104</th>\n",
       "      <td>274 days</td>\n",
       "      <td>5.344181e+07</td>\n",
       "      <td>7310.390781</td>\n",
       "      <td>6099.873093</td>\n",
       "      <td>0.027976</td>\n",
       "      <td>0.3</td>\n",
       "    </tr>\n",
       "    <tr>\n",
       "      <th>9</th>\n",
       "      <td>294 days</td>\n",
       "      <td>4.358237e+07</td>\n",
       "      <td>6601.694686</td>\n",
       "      <td>5107.910769</td>\n",
       "      <td>0.024477</td>\n",
       "      <td>0.4</td>\n",
       "    </tr>\n",
       "    <tr>\n",
       "      <th>21</th>\n",
       "      <td>295 days</td>\n",
       "      <td>4.833680e+07</td>\n",
       "      <td>6952.467359</td>\n",
       "      <td>5700.946543</td>\n",
       "      <td>0.028662</td>\n",
       "      <td>0.3</td>\n",
       "    </tr>\n",
       "    <tr>\n",
       "      <th>33</th>\n",
       "      <td>296 days</td>\n",
       "      <td>4.493632e+07</td>\n",
       "      <td>6703.455933</td>\n",
       "      <td>5371.935619</td>\n",
       "      <td>0.025776</td>\n",
       "      <td>0.4</td>\n",
       "    </tr>\n",
       "    <tr>\n",
       "      <th>45</th>\n",
       "      <td>298 days</td>\n",
       "      <td>4.346401e+07</td>\n",
       "      <td>6592.723880</td>\n",
       "      <td>5032.356394</td>\n",
       "      <td>0.023663</td>\n",
       "      <td>0.5</td>\n",
       "    </tr>\n",
       "    <tr>\n",
       "      <th>57</th>\n",
       "      <td>299 days</td>\n",
       "      <td>4.552935e+07</td>\n",
       "      <td>6747.544186</td>\n",
       "      <td>5373.830620</td>\n",
       "      <td>0.025112</td>\n",
       "      <td>0.4</td>\n",
       "    </tr>\n",
       "    <tr>\n",
       "      <th>69</th>\n",
       "      <td>300 days</td>\n",
       "      <td>4.552068e+07</td>\n",
       "      <td>6746.901166</td>\n",
       "      <td>5365.366312</td>\n",
       "      <td>0.025043</td>\n",
       "      <td>0.4</td>\n",
       "    </tr>\n",
       "    <tr>\n",
       "      <th>81</th>\n",
       "      <td>301 days</td>\n",
       "      <td>4.089633e+07</td>\n",
       "      <td>6395.023462</td>\n",
       "      <td>4890.486857</td>\n",
       "      <td>0.022897</td>\n",
       "      <td>0.5</td>\n",
       "    </tr>\n",
       "    <tr>\n",
       "      <th>93</th>\n",
       "      <td>303 days</td>\n",
       "      <td>2.522518e+07</td>\n",
       "      <td>5022.467234</td>\n",
       "      <td>3784.087415</td>\n",
       "      <td>0.018380</td>\n",
       "      <td>0.6</td>\n",
       "    </tr>\n",
       "    <tr>\n",
       "      <th>105</th>\n",
       "      <td>304 days</td>\n",
       "      <td>4.167387e+07</td>\n",
       "      <td>6455.530562</td>\n",
       "      <td>4398.338718</td>\n",
       "      <td>0.019962</td>\n",
       "      <td>0.6</td>\n",
       "    </tr>\n",
       "    <tr>\n",
       "      <th>10</th>\n",
       "      <td>325 days</td>\n",
       "      <td>3.647964e+07</td>\n",
       "      <td>6039.837575</td>\n",
       "      <td>3784.574064</td>\n",
       "      <td>0.018164</td>\n",
       "      <td>0.7</td>\n",
       "    </tr>\n",
       "    <tr>\n",
       "      <th>22</th>\n",
       "      <td>326 days</td>\n",
       "      <td>3.777531e+07</td>\n",
       "      <td>6146.162380</td>\n",
       "      <td>4143.544816</td>\n",
       "      <td>0.020989</td>\n",
       "      <td>0.6</td>\n",
       "    </tr>\n",
       "    <tr>\n",
       "      <th>34</th>\n",
       "      <td>327 days</td>\n",
       "      <td>3.309616e+07</td>\n",
       "      <td>5752.926051</td>\n",
       "      <td>3581.869386</td>\n",
       "      <td>0.016836</td>\n",
       "      <td>0.7</td>\n",
       "    </tr>\n",
       "    <tr>\n",
       "      <th>46</th>\n",
       "      <td>329 days</td>\n",
       "      <td>3.890957e+07</td>\n",
       "      <td>6237.753416</td>\n",
       "      <td>4069.502509</td>\n",
       "      <td>0.019459</td>\n",
       "      <td>0.6</td>\n",
       "    </tr>\n",
       "    <tr>\n",
       "      <th>58</th>\n",
       "      <td>330 days</td>\n",
       "      <td>3.977554e+07</td>\n",
       "      <td>6306.784866</td>\n",
       "      <td>4320.509403</td>\n",
       "      <td>0.020690</td>\n",
       "      <td>0.6</td>\n",
       "    </tr>\n",
       "    <tr>\n",
       "      <th>70</th>\n",
       "      <td>331 days</td>\n",
       "      <td>3.850361e+07</td>\n",
       "      <td>6205.127551</td>\n",
       "      <td>4158.292100</td>\n",
       "      <td>0.019899</td>\n",
       "      <td>0.7</td>\n",
       "    </tr>\n",
       "    <tr>\n",
       "      <th>82</th>\n",
       "      <td>332 days</td>\n",
       "      <td>4.235969e+07</td>\n",
       "      <td>6508.432077</td>\n",
       "      <td>4734.018144</td>\n",
       "      <td>0.022242</td>\n",
       "      <td>0.6</td>\n",
       "    </tr>\n",
       "    <tr>\n",
       "      <th>94</th>\n",
       "      <td>334 days</td>\n",
       "      <td>4.215073e+07</td>\n",
       "      <td>6492.359713</td>\n",
       "      <td>4687.867562</td>\n",
       "      <td>0.022133</td>\n",
       "      <td>0.6</td>\n",
       "    </tr>\n",
       "    <tr>\n",
       "      <th>106</th>\n",
       "      <td>335 days</td>\n",
       "      <td>4.928129e+07</td>\n",
       "      <td>7020.063687</td>\n",
       "      <td>5391.397587</td>\n",
       "      <td>0.024853</td>\n",
       "      <td>0.5</td>\n",
       "    </tr>\n",
       "    <tr>\n",
       "      <th>11</th>\n",
       "      <td>355 days</td>\n",
       "      <td>2.293877e+07</td>\n",
       "      <td>4789.443607</td>\n",
       "      <td>4019.615883</td>\n",
       "      <td>0.021311</td>\n",
       "      <td>0.5</td>\n",
       "    </tr>\n",
       "    <tr>\n",
       "      <th>23</th>\n",
       "      <td>356 days</td>\n",
       "      <td>2.458287e+07</td>\n",
       "      <td>4958.111216</td>\n",
       "      <td>4325.166305</td>\n",
       "      <td>0.023648</td>\n",
       "      <td>0.4</td>\n",
       "    </tr>\n",
       "    <tr>\n",
       "      <th>35</th>\n",
       "      <td>357 days</td>\n",
       "      <td>2.357850e+07</td>\n",
       "      <td>4855.769282</td>\n",
       "      <td>4135.888952</td>\n",
       "      <td>0.021912</td>\n",
       "      <td>0.5</td>\n",
       "    </tr>\n",
       "    <tr>\n",
       "      <th>47</th>\n",
       "      <td>359 days</td>\n",
       "      <td>2.551276e+07</td>\n",
       "      <td>5051.015397</td>\n",
       "      <td>4460.452054</td>\n",
       "      <td>0.023583</td>\n",
       "      <td>0.4</td>\n",
       "    </tr>\n",
       "    <tr>\n",
       "      <th>59</th>\n",
       "      <td>360 days</td>\n",
       "      <td>1.868912e+07</td>\n",
       "      <td>4323.091979</td>\n",
       "      <td>3772.440320</td>\n",
       "      <td>0.019581</td>\n",
       "      <td>0.5</td>\n",
       "    </tr>\n",
       "    <tr>\n",
       "      <th>71</th>\n",
       "      <td>361 days</td>\n",
       "      <td>1.780565e+07</td>\n",
       "      <td>4219.674693</td>\n",
       "      <td>3495.847307</td>\n",
       "      <td>0.018200</td>\n",
       "      <td>0.5</td>\n",
       "    </tr>\n",
       "    <tr>\n",
       "      <th>83</th>\n",
       "      <td>362 days</td>\n",
       "      <td>3.222687e+07</td>\n",
       "      <td>5676.871671</td>\n",
       "      <td>4425.396521</td>\n",
       "      <td>0.022014</td>\n",
       "      <td>0.4</td>\n",
       "    </tr>\n",
       "    <tr>\n",
       "      <th>95</th>\n",
       "      <td>364 days</td>\n",
       "      <td>3.053159e+07</td>\n",
       "      <td>5525.539664</td>\n",
       "      <td>4269.861337</td>\n",
       "      <td>0.021438</td>\n",
       "      <td>0.5</td>\n",
       "    </tr>\n",
       "    <tr>\n",
       "      <th>107</th>\n",
       "      <td>365 days</td>\n",
       "      <td>5.624352e+07</td>\n",
       "      <td>7499.567688</td>\n",
       "      <td>5682.885529</td>\n",
       "      <td>0.026656</td>\n",
       "      <td>0.4</td>\n",
       "    </tr>\n",
       "  </tbody>\n",
       "</table>\n",
       "<p>99 rows × 6 columns</p>\n",
       "</div>"
      ],
      "text/plain": [
       "     horizon           mse         rmse          mae      mape  coverage\n",
       "1    52 days  2.484109e+07  4984.083210  4590.014835  0.028137       0.3\n",
       "13   53 days  2.226842e+07  4718.943023  4318.899977  0.025335       0.3\n",
       "25   54 days  1.882583e+07  4338.874820  3803.991852  0.020509       0.4\n",
       "37   55 days  2.374039e+07  4872.411127  4319.472747  0.023528       0.3\n",
       "49   57 days  2.150039e+07  4636.851520  4050.449106  0.021775       0.4\n",
       "61   58 days  2.377014e+07  4875.463292  4327.071181  0.022979       0.3\n",
       "73   59 days  3.857268e+07  6210.691064  5144.794773  0.026666       0.3\n",
       "85   60 days  3.959640e+07  6292.566974  5229.654576  0.027225       0.3\n",
       "97   62 days  3.773627e+07  6142.985167  4985.238970  0.026153       0.4\n",
       "2    80 days  3.264865e+07  5713.899872  4364.416238  0.024037       0.5\n",
       "14   81 days  3.287214e+07  5733.423310  4461.461888  0.024663       0.5\n",
       "26   82 days  3.273578e+07  5721.519435  4440.708849  0.023530       0.6\n",
       "38   84 days  3.384815e+07  5817.916077  4706.128999  0.024828       0.6\n",
       "50   85 days  2.983983e+07  5462.584849  4343.936561  0.022000       0.7\n",
       "62   86 days  2.905115e+07  5389.912117  4085.532750  0.020567       0.7\n",
       "74   87 days  2.775881e+07  5268.662783  3951.324112  0.019528       0.8\n",
       "86   89 days  1.430251e+07  3781.865304  3254.512729  0.015944       0.8\n",
       "98   90 days  2.108837e+07  4592.207361  3655.515480  0.016900       0.8\n",
       "3   111 days  2.050330e+07  4528.056835  3487.869704  0.016508       0.8\n",
       "15  112 days  2.102938e+07  4585.780229  3638.485039  0.017605       0.8\n",
       "27  113 days  2.267923e+07  4762.271752  3912.733905  0.019068       0.7\n",
       "39  115 days  2.221524e+07  4713.304385  3828.720432  0.018308       0.7\n",
       "51  116 days  2.148911e+07  4635.634353  3697.477130  0.017444       0.7\n",
       "63  117 days  2.010623e+07  4483.996740  3341.901127  0.015758       0.7\n",
       "75  118 days  2.133499e+07  4618.981764  3669.814813  0.017050       0.7\n",
       "87  120 days  1.967055e+07  4435.148827  3327.928592  0.015744       0.7\n",
       "99  121 days  4.166916e+07  6455.165095  4317.240942  0.019222       0.7\n",
       "4   141 days  3.081409e+07  5551.044078  3370.089073  0.016079       0.8\n",
       "16  142 days  3.438259e+07  5863.667285  3883.627983  0.019640       0.7\n",
       "28  143 days  3.514306e+07  5928.158078  4005.862058  0.019933       0.6\n",
       "..       ...           ...          ...          ...       ...       ...\n",
       "80  271 days  3.987511e+07  6314.674121  4976.697924  0.023250       0.4\n",
       "92  273 days  4.844885e+07  6960.520511  5553.268374  0.025891       0.4\n",
       "104 274 days  5.344181e+07  7310.390781  6099.873093  0.027976       0.3\n",
       "9   294 days  4.358237e+07  6601.694686  5107.910769  0.024477       0.4\n",
       "21  295 days  4.833680e+07  6952.467359  5700.946543  0.028662       0.3\n",
       "33  296 days  4.493632e+07  6703.455933  5371.935619  0.025776       0.4\n",
       "45  298 days  4.346401e+07  6592.723880  5032.356394  0.023663       0.5\n",
       "57  299 days  4.552935e+07  6747.544186  5373.830620  0.025112       0.4\n",
       "69  300 days  4.552068e+07  6746.901166  5365.366312  0.025043       0.4\n",
       "81  301 days  4.089633e+07  6395.023462  4890.486857  0.022897       0.5\n",
       "93  303 days  2.522518e+07  5022.467234  3784.087415  0.018380       0.6\n",
       "105 304 days  4.167387e+07  6455.530562  4398.338718  0.019962       0.6\n",
       "10  325 days  3.647964e+07  6039.837575  3784.574064  0.018164       0.7\n",
       "22  326 days  3.777531e+07  6146.162380  4143.544816  0.020989       0.6\n",
       "34  327 days  3.309616e+07  5752.926051  3581.869386  0.016836       0.7\n",
       "46  329 days  3.890957e+07  6237.753416  4069.502509  0.019459       0.6\n",
       "58  330 days  3.977554e+07  6306.784866  4320.509403  0.020690       0.6\n",
       "70  331 days  3.850361e+07  6205.127551  4158.292100  0.019899       0.7\n",
       "82  332 days  4.235969e+07  6508.432077  4734.018144  0.022242       0.6\n",
       "94  334 days  4.215073e+07  6492.359713  4687.867562  0.022133       0.6\n",
       "106 335 days  4.928129e+07  7020.063687  5391.397587  0.024853       0.5\n",
       "11  355 days  2.293877e+07  4789.443607  4019.615883  0.021311       0.5\n",
       "23  356 days  2.458287e+07  4958.111216  4325.166305  0.023648       0.4\n",
       "35  357 days  2.357850e+07  4855.769282  4135.888952  0.021912       0.5\n",
       "47  359 days  2.551276e+07  5051.015397  4460.452054  0.023583       0.4\n",
       "59  360 days  1.868912e+07  4323.091979  3772.440320  0.019581       0.5\n",
       "71  361 days  1.780565e+07  4219.674693  3495.847307  0.018200       0.5\n",
       "83  362 days  3.222687e+07  5676.871671  4425.396521  0.022014       0.4\n",
       "95  364 days  3.053159e+07  5525.539664  4269.861337  0.021438       0.5\n",
       "107 365 days  5.624352e+07  7499.567688  5682.885529  0.026656       0.4\n",
       "\n",
       "[99 rows x 6 columns]"
      ]
     },
     "execution_count": 215,
     "metadata": {},
     "output_type": "execute_result"
    }
   ],
   "source": [
    "performance_metrics(df_cv)"
   ]
  },
  {
   "cell_type": "code",
   "execution_count": 217,
   "metadata": {},
   "outputs": [
    {
     "data": {
      "image/png": "[encoded data removed]",
      "text/plain": [
       "<Figure size 720x432 with 1 Axes>"
      ]
     },
     "metadata": {},
     "output_type": "display_data"
    }
   ],
   "source": [
    "plot_cross_validation_metric(df_cv, metric='rmse');"
   ]
  },
  {
   "cell_type": "markdown",
   "metadata": {},
   "source": [
    "MAPE is Mean Absolute Percentage Error\n",
    "\n",
    "https://en.wikipedia.org/wiki/Mean_absolute_percentage_error"
   ]
  },
  {
   "cell_type": "code",
   "execution_count": 218,
   "metadata": {},
   "outputs": [
    {
     "data": {
      "image/png": "[encoded data removed]",
      "text/plain": [
       "<Figure size 720x432 with 1 Axes>"
      ]
     },
     "metadata": {},
     "output_type": "display_data"
    }
   ],
   "source": [
    "plot_cross_validation_metric(df_cv, metric='mape');"
   ]
  },
  {
   "cell_type": "markdown",
   "metadata": {},
   "source": [
    "# Great Job!"
   ]
  }
 ],
 "metadata": {
  "kernelspec": {
   "display_name": "Python 3",
   "language": "python",
   "name": "python3"
  },
  "language_info": {
   "codemirror_mode": {
    "name": "ipython",
    "version": 3
   },
   "file_extension": ".py",
   "mimetype": "text/x-python",
   "name": "python",
   "nbconvert_exporter": "python",
   "pygments_lexer": "ipython3",
   "version": "3.7.2"
  }
 },
 "nbformat": 4,
 "nbformat_minor": 2
}
